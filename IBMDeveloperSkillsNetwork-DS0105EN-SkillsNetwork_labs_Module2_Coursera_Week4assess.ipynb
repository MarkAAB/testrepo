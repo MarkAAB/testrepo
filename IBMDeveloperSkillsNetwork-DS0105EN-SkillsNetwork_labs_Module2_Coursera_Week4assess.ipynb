{
  "metadata": {
    "language_info": {
      "codemirror_mode": {
        "name": "python",
        "version": 3
      },
      "file_extension": ".py",
      "mimetype": "text/x-python",
      "name": "python",
      "nbconvert_exporter": "python",
      "pygments_lexer": "ipython3",
      "version": "3.8"
    },
    "kernelspec": {
      "name": "python",
      "display_name": "Pyolite",
      "language": "python"
    },
    "toc-showtags": true,
    "toc-autonumbering": false,
    "toc-showcode": false,
    "toc-showmarkdowntxt": true
  },
  "nbformat_minor": 4,
  "nbformat": 4,
  "cells": [
    {
      "cell_type": "markdown",
      "source": "# My Jupyter on IBM Watson Studio",
      "metadata": {
        "slideshow": {
          "slide_type": "notes"
        },
        "tags": []
      }
    },
    {
      "cell_type": "markdown",
      "source": "**Mark Bain**\nMarketing",
      "metadata": {}
    },
    {
      "cell_type": "markdown",
      "source": "I am interested in Data Science because the Insights from data analysis can lead to improved commercial outcomes whether Sales, Marketing or internal efficiencies",
      "metadata": {}
    },
    {
      "cell_type": "markdown",
      "source": "My code is to sum three numbers",
      "metadata": {}
    },
    {
      "cell_type": "code",
      "source": "print (5+6+3)",
      "metadata": {
        "trusted": true
      },
      "execution_count": 2,
      "outputs": [
        {
          "name": "stdout",
          "text": "14\n",
          "output_type": "stream"
        }
      ]
    },
    {
      "cell_type": "markdown",
      "source": "[link] (https://www.theaustralian.com.au)\n\n1. One\n2. Two\n3. Three\n\nHorizontal Rule:\n\n---\n\n",
      "metadata": {}
    }
  ]
}